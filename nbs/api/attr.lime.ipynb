{
 "cells": [
  {
   "attachments": {},
   "cell_type": "markdown",
   "metadata": {},
   "source": [
    "## LIME"
   ]
  },
  {
   "cell_type": "code",
   "execution_count": null,
   "metadata": {},
   "outputs": [],
   "source": [
    "#| default_exp attr.lime"
   ]
  },
  {
   "cell_type": "code",
   "execution_count": null,
   "metadata": {},
   "outputs": [],
   "source": [
    "#| include: false\n",
    "%load_ext autoreload\n",
    "%autoreload 2\n",
    "from ipynb_path import *"
   ]
  },
  {
   "cell_type": "code",
   "execution_count": null,
   "metadata": {},
   "outputs": [],
   "source": [
    "#| export\n",
    "from jax_interpret.imports import *\n",
    "from jax_interpret.attr.base import *\n",
    "from jax_interpret.linear_model import Lasso, Ridge"
   ]
  },
  {
   "cell_type": "code",
   "execution_count": null,
   "metadata": {},
   "outputs": [],
   "source": [
    "def pairwise_distances(\n",
    "    x: jnp.ndarray, # [n, k]\n",
    "    y: jnp.ndarray, # [m, k]\n",
    "): pass"
   ]
  },
  {
   "cell_type": "code",
   "execution_count": null,
   "metadata": {},
   "outputs": [],
   "source": [
    "def default_perturb_func(x: jnp.ndarray, prng_key: jrand.PRNGKey, **kwargs) -> jnp.ndarray:\n",
    "    \"\"\"Default perturbation function for LIME\"\"\"\n",
    "    probs = jnp.ones((1, x.shape[-1])) * 0.5\n",
    "    return jrand.bernoulli(prng_key, probs=probs, shape=x.shape)\n"
   ]
  },
  {
   "cell_type": "code",
   "execution_count": null,
   "metadata": {},
   "outputs": [],
   "source": [
    "class LimeBase(Attribution):\n",
    "    def __init__(\n",
    "        self,\n",
    "        func: Callable, # A black-box function to be explained\n",
    "        additional_func_args: Dict = None, # Additional arguments for the black-box function\n",
    "        model_regressor = None, # Linear regressor to use in explanation\n",
    "        kernal_func: Callable = None, # Kernel function for computing similarity\n",
    "        perturb_func: Callable = None, # Perturbation function for generating perturbed instances\n",
    "    ): \n",
    "        super().__init__(func, additional_func_args)\n",
    "        self.model_regressor = model_regressor if model_regressor is not None else Ridge(alpha=1)\n",
    "        \n",
    "\n",
    "    def attribute_single(self, inputs: jnp.ndarray, **kwargs) -> jnp.ndarray:\n",
    "        \"\"\"Compute attribution for a single input\"\"\"\n",
    "        if len(inputs.shape) == 1:\n",
    "            inputs = inputs.reshape(1, -1)\n",
    "        if len(inputs.shape) != 2:\n",
    "            raise ValueError(\"Input must be a 1D or 2D array\")\n",
    "        if inputs.shape[0] != 1:\n",
    "            raise ValueError(\"Input must be a single instance\")\n",
    "        \n",
    "\n",
    "    def attribute(self, inputs: jnp.ndarray, **kwargs) -> jnp.ndarray:\n",
    "        \"\"\"Compute attribution for a given input\"\"\"\n",
    "        raise NotImplementedError"
   ]
  }
 ],
 "metadata": {
  "kernelspec": {
   "display_name": "python3",
   "language": "python",
   "name": "python3"
  }
 },
 "nbformat": 4,
 "nbformat_minor": 2
}

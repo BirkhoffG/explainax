{
 "cells": [
  {
   "attachments": {},
   "cell_type": "markdown",
   "metadata": {},
   "source": [
    "## Base API "
   ]
  },
  {
   "cell_type": "code",
   "execution_count": null,
   "metadata": {},
   "outputs": [],
   "source": [
    "#| default_exp attr.base"
   ]
  },
  {
   "cell_type": "code",
   "execution_count": null,
   "metadata": {},
   "outputs": [],
   "source": [
    "#| include: false\n",
    "%load_ext autoreload\n",
    "%autoreload 2\n",
    "from ipynb_path import *"
   ]
  },
  {
   "cell_type": "code",
   "execution_count": null,
   "metadata": {},
   "outputs": [],
   "source": [
    "#| export\n",
    "from jax_interpret.imports import *"
   ]
  },
  {
   "cell_type": "code",
   "execution_count": null,
   "metadata": {},
   "outputs": [],
   "source": [
    "#| export\n",
    "class Attribution:\n",
    "    def __init__(\n",
    "        self,\n",
    "        func: Callable, # A black-box function to be explained\n",
    "        additional_func_args: Dict = None, # Additional arguments for the black-box function\n",
    "    ): \n",
    "        self.func = func\n",
    "        self.additional_func_args = additional_func_args\n",
    "\n",
    "    def attribute(self, inputs: jnp.ndarray, **kwargs) -> jnp.ndarray:\n",
    "        \"\"\"Compute attribution for a given input\"\"\"\n",
    "        raise NotImplementedError"
   ]
  }
 ],
 "metadata": {
  "kernelspec": {
   "display_name": "python3",
   "language": "python",
   "name": "python3"
  }
 },
 "nbformat": 4,
 "nbformat_minor": 2
}

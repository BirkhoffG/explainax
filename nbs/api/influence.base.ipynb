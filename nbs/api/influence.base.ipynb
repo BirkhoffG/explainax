{
 "cells": [
  {
   "cell_type": "code",
   "execution_count": null,
   "metadata": {},
   "outputs": [],
   "source": [
    "#| default_exp influence.base"
   ]
  },
  {
   "cell_type": "code",
   "execution_count": null,
   "metadata": {},
   "outputs": [],
   "source": [
    "#| export\n",
    "from explainax.imports import *"
   ]
  },
  {
   "cell_type": "code",
   "execution_count": null,
   "metadata": {},
   "outputs": [],
   "source": [
    "#| export\n",
    "class Influence:\n",
    "    def __init__(\n",
    "        self,\n",
    "        func: Callable, # A black-box function to be explained\n",
    "        train_dataset: Tuple[Array, Array], # Training dataset\n",
    "        additional_func_args: Dict = None, # Additional arguments for the black-box function\n",
    "    ): \n",
    "        self.func = func\n",
    "        self.additional_func_args = additional_func_args\n",
    "        self.train_ds = train_dataset\n",
    "\n",
    "    def attribute(self, inputs: Array, **kwargs) -> Array:\n",
    "        \"\"\"Compute influence for given inputs\"\"\"\n",
    "        raise NotImplementedError\n"
   ]
  }
 ],
 "metadata": {
  "kernelspec": {
   "display_name": "python3",
   "language": "python",
   "name": "python3"
  }
 },
 "nbformat": 4,
 "nbformat_minor": 2
}

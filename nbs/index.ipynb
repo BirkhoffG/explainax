{
 "cells": [
  {
   "cell_type": "code",
   "execution_count": null,
   "metadata": {},
   "outputs": [],
   "source": [
    "#| hide"
   ]
  },
  {
   "attachments": {},
   "cell_type": "markdown",
   "metadata": {},
   "source": [
    "# Explainax: An Explainable AI Library for JAX"
   ]
  },
  {
   "attachments": {},
   "cell_type": "markdown",
   "metadata": {},
   "source": [
    "\n",
    "![Python](https://img.shields.io/pypi/pyversions/explainax.svg) ![CI\n",
    "status](https://github.com/BirkhoffG/explainax/actions/workflows/test.yaml/badge.svg)\n",
    "![Docs](https://github.com/BirkhoffG/explainax/actions/workflows/deploy.yaml/badge.svg)\n",
    "![pypi](https://img.shields.io/pypi/v/explainax.svg) \n",
    "![GitHub License](https://img.shields.io/github/license/BirkhoffG/explainax.svg)\n",
    "\n",
    "[**Installation**](#installation) \\|\n",
    "[**Documentation**](https://birkhoffg.github.io/explainax/) \n"
   ]
  },
  {
   "cell_type": "markdown",
   "metadata": {},
   "source": [
    "`explainax` is a JAX library for model explanation and interpretation."
   ]
  },
  {
   "attachments": {},
   "cell_type": "markdown",
   "metadata": {},
   "source": [
    "## Installation\n",
    "\n",
    "Simply install via `pypi`:\n",
    "\n",
    "```sh\n",
    "pip install explainax --upgrade\n",
    "```\n",
    "\n",
    "Or upgrade to the latest version of `explainax`:\n",
    "\n",
    "```sh\n",
    "pip install git+https://github.com/BirkhoffG/explainax.git --upgrade\n",
    "```\n"
   ]
  }
 ],
 "metadata": {
  "kernelspec": {
   "display_name": "python3",
   "language": "python",
   "name": "python3"
  }
 },
 "nbformat": 4,
 "nbformat_minor": 4
}
